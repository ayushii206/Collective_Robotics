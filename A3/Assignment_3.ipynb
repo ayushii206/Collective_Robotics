{
 "cells": [
  {
   "cell_type": "code",
   "execution_count": 32,
   "id": "e4a51851-79ea-4b79-84bb-3686005ba9f8",
   "metadata": {},
   "outputs": [
    {
     "name": "stdout",
     "output_type": "stream",
     "text": [
      "0.31443031232655044 0.8118547556170518\n",
      "0.2539476726191702\n",
      "Not crossed\n"
     ]
    }
   ],
   "source": [
    "## Task 1 for one iteration (Just testing for one needle)\n",
    "import random \n",
    "import time \n",
    "import math\n",
    "\n",
    "needle_length = 0.7\n",
    "space_btw_line = 1\n",
    "\n",
    "d_btw_needle_line = random.uniform(0,space_btw_line/2)\n",
    "angle_btw_needle_line = random.uniform(0,math.pi/2)\n",
    "\n",
    "print(d_btw_needle_line,angle_btw_needle_line)\n",
    "\n",
    "crossing_line = math.sin(angle_btw_needle_line) * (needle_length/2)\n",
    "print(crossing_line)\n",
    "if crossing_line > d_btw_needle_line:\n",
    "    print(\"Line Crossed\")\n",
    "else:\n",
    "    print(\"Not crossed\")\n"
   ]
  },
  {
   "cell_type": "code",
   "execution_count": 33,
   "id": "7500da23-ae85-4ebc-a981-e990cd61fbe1",
   "metadata": {},
   "outputs": [
    {
     "name": "stdout",
     "output_type": "stream",
     "text": [
      "Probability of getting the needle crossed is 0.41\n",
      "Pi estimated 3.4146341463414633 vs Pi Actual 3.142\n"
     ]
    }
   ],
   "source": [
    "## Task 2 for n trials\n",
    "import random \n",
    "import time \n",
    "import math\n",
    "\n",
    "needle_length = 0.7\n",
    "space_btw_line = 1\n",
    "trials = 100\n",
    "crossed_line_count = 0\n",
    "\n",
    "for i in range(trials):\n",
    "    d_btw_needle_line = random.uniform(0,space_btw_line/2)\n",
    "    angle_btw_needle_line = random.uniform(0,math.pi/2)\n",
    "\n",
    "    # print(d_btw_needle_line,angle_btw_needle_line)\n",
    "\n",
    "    crossing_line = math.sin(angle_btw_needle_line) * (needle_length/2)\n",
    "    # print(crossing_line)\n",
    "    if crossing_line > d_btw_needle_line:\n",
    "        crossed_line_count = crossed_line_count + 1\n",
    "    else:\n",
    "        continue\n",
    "\n",
    "Probibility = crossed_line_count/trials\n",
    "print(f\"Probability of getting the needle crossed is {Probibility}\")\n",
    "\n",
    "Pi_estimate = (2*needle_length) / (space_btw_line*Probibility)\n",
    "print(f\"Pi estimated {Pi_estimate} vs Pi Actual 3.142\")"
   ]
  },
  {
   "cell_type": "code",
   "execution_count": 34,
   "id": "ee4dbf4b-b034-4e00-bb06-50f37a8d1941",
   "metadata": {},
   "outputs": [
    {
     "data": {
      "image/png": "[encoded data removed]",
      "text/plain": [
       "<Figure size 432x288 with 1 Axes>"
      ]
     },
     "metadata": {
      "needs_background": "light"
     },
     "output_type": "display_data"
    }
   ],
   "source": [
    "## Task 2 for n trials\n",
    "import random \n",
    "import time \n",
    "import math\n",
    "import numpy as np\n",
    "import matplotlib.pyplot as plt\n",
    "\n",
    "needle_length = 0.7\n",
    "space_btw_line = 1\n",
    "trials = 100\n",
    "\n",
    "no_of_needles = list(range(10, 1001, 10))\n",
    "\n",
    "std_deviations = []\n",
    "\n",
    "for n in no_of_needles:\n",
    "    Probibility = []\n",
    "    \n",
    "    for i in range(trials):\n",
    "        crossed_line_count = 0\n",
    "        for K in range(n):\n",
    "            \n",
    "            d_btw_needle_line = random.uniform(0,space_btw_line/2)\n",
    "            angle_btw_needle_line = random.uniform(0,math.pi/2)\n",
    "        \n",
    "            # print(d_btw_needle_line,angle_btw_needle_line)\n",
    "        \n",
    "            crossing_line = math.sin(angle_btw_needle_line) * (needle_length/2)\n",
    "            # print(crossing_line)\n",
    "            if crossing_line > d_btw_needle_line:\n",
    "                crossed_line_count = crossed_line_count + 1\n",
    "            else:\n",
    "                continue\n",
    "        P = crossed_line_count/n\n",
    "        Probibility.append(P)\n",
    "        # print(f\"Probability of getting the needle crossed with quantity{n} is {Probibility}\")\n",
    "    Std_Dev = np.std(Probibility)\n",
    "    std_deviations.append(Std_Dev)\n",
    "\n",
    "plt.plot(no_of_needles, std_deviations, marker='o')\n",
    "plt.title(\"Standard Deviation of Intersection Probability vs Number of Needles\")\n",
    "plt.xlabel(\"Number of Needles per Experiment (n)\")\n",
    "plt.ylabel(\"Standard Deviation of P\")\n",
    "plt.grid(True)\n",
    "plt.show()"
   ]
  },
  {
   "cell_type": "code",
   "execution_count": null,
   "id": "dd9e0453-1478-4845-8a5a-c24837f7b710",
   "metadata": {},
   "outputs": [],
   "source": []
  }
 ],
 "metadata": {
  "kernelspec": {
   "display_name": "Python 3 (ipykernel)",
   "language": "python",
   "name": "python3"
  },
  "language_info": {
   "codemirror_mode": {
    "name": "ipython",
    "version": 3
   },
   "file_extension": ".py",
   "mimetype": "text/x-python",
   "name": "python",
   "nbconvert_exporter": "python",
   "pygments_lexer": "ipython3",
   "version": "3.10.12"
  }
 },
 "nbformat": 4,
 "nbformat_minor": 5
}
